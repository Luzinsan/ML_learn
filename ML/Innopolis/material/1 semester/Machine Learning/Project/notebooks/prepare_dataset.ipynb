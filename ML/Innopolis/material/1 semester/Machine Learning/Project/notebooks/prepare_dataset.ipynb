{
 "cells": [
  {
   "cell_type": "code",
   "execution_count": null,
   "metadata": {},
   "outputs": [],
   "source": [
    "import pandas as pd\n",
    "import numpy as np\n",
    "import sklearn\n",
    "import seaborn as sns\n",
    "import plotly.express as px\n",
    "import matplotlib.pyplot as plt\n",
    "from sklearn.model_selection import train_test_split\n",
    "from sklearn import preprocessing\n",
    "from sklearn import metrics\n",
    "from category_encoders import BinaryEncoder, cat_boost\n",
    "%matplotlib inline\n",
    "import warnings\n",
    "warnings.filterwarnings('ignore')"
   ]
  },
  {
   "cell_type": "markdown",
   "metadata": {},
   "source": [
    "### SQL Queries"
   ]
  },
  {
   "cell_type": "code",
   "execution_count": null,
   "metadata": {},
   "outputs": [],
   "source": [
    "joined_table = '''\n",
    "CREATE TABLE joined_table AS\n",
    "SELECT\n",
    "    oh.store_id,\n",
    "    oh.order_id,\n",
    "    product_id,\n",
    "    price,\n",
    "    profit,\n",
    "    delivery_distance,\n",
    "    DATE_CREATE as date_create,\n",
    "    order_start_prepare,\n",
    "    planned_prep_time,\n",
    "    order_ready,\n",
    "    order_pickup,\n",
    "    region_id,\n",
    "    STATUS_ID as status_id\n",
    "FROM\n",
    "    order_history as oh\n",
    "    LEFT JOIN order_props_value_pivoted as opvp on opvp.order_id = oh.order_id\n",
    "    LEFT JOIN order_busket as ob on ob.order_id = oh.order_id\n",
    "    and ob.store_id = oh.store_id;\n",
    "'''\n",
    "order_props_value_pivoted = '''\n",
    "CREATE VIEW order_props_value_pivoted AS\n",
    "SELECT\n",
    "    opv.order_id,\n",
    "    MAX(CASE WHEN op.ID = 11 THEN opv.VALUE END) AS region_id,\n",
    "    MAX(CASE WHEN op.ID = 95 THEN opv.VALUE END) AS order_ready,\n",
    "    MAX(CASE WHEN op.ID = 97 THEN opv.VALUE END) AS order_start_prepare,\n",
    "    MAX(CASE WHEN op.ID = 65 THEN opv.VALUE END) AS delivery_distance,\n",
    "    MAX(CASE WHEN op.ID = 18 THEN opv.VALUE END) AS order_pickup,\n",
    "    MAX(CASE WHEN op.ID = 77 THEN opv.VALUE END) AS profit\n",
    "FROM\n",
    "    order_props_value opv\n",
    "    LEFT JOIN order_props op ON opv.ORDER_PROPS_ID = op.ID\n",
    "GROUP BY\n",
    "    opv.order_id;\n",
    "'''"
   ]
  },
  {
   "cell_type": "markdown",
   "metadata": {},
   "source": [
    "# Reading from database and prepare target feature"
   ]
  },
  {
   "cell_type": "code",
   "execution_count": null,
   "metadata": {},
   "outputs": [],
   "source": [
    "from sqlalchemy import create_engine, text\n",
    "\n",
    "session_engine = create_engine('sqlite:///../F24.ML.Assignment.One.data.db')\n",
    "\n",
    "with session_engine.connect() as conn: \n",
    "    original_orders = pd.read_sql_query(text('SELECT * FROM joined_table'), con=conn) \n",
    "    \n",
    "original_orders.to_csv('../content/full_orders_df.csv', index=False)"
   ]
  },
  {
   "cell_type": "code",
   "execution_count": null,
   "metadata": {},
   "outputs": [
    {
     "name": "stdout",
     "output_type": "stream",
     "text": [
      "Before imputing. Num of nan's in price:  135275\n",
      "After imputing. Num of nan's in imputed_price:  2065\n",
      "Number of duplicates in orders (the same product in price, another feats., but other product_id):  72742 \n",
      "Shape of dataset:  (1351692, 14)\n",
      "After drop duplicates:  (1278950, 14)\n"
     ]
    }
   ],
   "source": [
    "print(\"Before imputing. Num of nan's in price: \", original_orders['price'].isna().sum())\n",
    "original_orders['imputed_price'] = original_orders.groupby(['store_id', 'product_id'])['price'].transform(lambda x: x.fillna(x.max()))\n",
    "print(\"After imputing. Num of nan's in imputed_price: \", original_orders['imputed_price'].isna().sum())\n",
    "\n",
    "aggregated_df = original_orders.groupby(['store_id', 'order_id'])[original_orders.columns].agg(\n",
    "    products_count=('product_id', 'count'),\n",
    "    order_price=('imputed_price', 'sum'),\n",
    "    max_price=('imputed_price', 'max'),\n",
    "    min_price=('imputed_price', 'min'),\n",
    "    avg_price=('imputed_price', 'mean')\n",
    ").reset_index()\n",
    "\n",
    "print('Number of duplicates in orders (the same product in price, another feats., but other product_id): ', \n",
    "      original_orders.duplicated(subset=original_orders.columns.difference(['product_id'])).sum(),\n",
    "      '\\nShape of dataset: ', original_orders.shape)\n",
    "original_orders = original_orders.drop_duplicates(subset=original_orders.columns.difference(['product_id']))\n",
    "print('After drop duplicates: ', original_orders.shape)\n",
    "\n",
    "unique_products_by_store = original_orders.groupby('store_id')['product_id'].nunique().reset_index()\n",
    "unique_products_by_store.columns = ['store_id', 'unique_products_sold_by_store']\n",
    "\n",
    "aggregated_df = pd.merge(aggregated_df, unique_products_by_store, on='store_id', how='left')\n",
    "\n",
    "unique_orders = original_orders.drop_duplicates(subset=['store_id', 'order_id']).drop(columns=['product_id','price','imputed_price'])\n",
    "\n",
    "df = pd.merge(unique_orders, aggregated_df, on=['store_id', 'order_id'], how='left')\n",
    "df.drop(columns=['order_id'], inplace=True)"
   ]
  },
  {
   "cell_type": "code",
   "execution_count": null,
   "metadata": {},
   "outputs": [],
   "source": [
    "date_cols = ['date_create', 'order_start_prepare', 'order_ready'] \n",
    "for col_name in date_cols:\n",
    "    df[col_name] = pd.to_datetime(df[col_name], format='mixed')\n",
    "df['order_pickup'] = pd.to_datetime(df['order_pickup'], dayfirst=True)\n",
    "\n",
    "df = df.sort_index(ascending=False)\n",
    "df.to_csv('../content/aggregated_df.csv', index=False)"
   ]
  }
 ],
 "metadata": {
  "language_info": {
   "name": "python"
  }
 },
 "nbformat": 4,
 "nbformat_minor": 2
}
