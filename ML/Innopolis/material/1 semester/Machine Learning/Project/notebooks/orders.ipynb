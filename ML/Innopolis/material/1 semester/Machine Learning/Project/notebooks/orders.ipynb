{
 "cells": [
  {
   "cell_type": "code",
   "execution_count": 23,
   "metadata": {},
   "outputs": [],
   "source": [
    "#jupyter url: http://127.0.0.1:8888/tree?token=ecf2b449a6a9ef419978fb98f5824d2417333aa62eacd254"
   ]
  },
  {
   "cell_type": "code",
   "execution_count": 1,
   "metadata": {},
   "outputs": [
    {
     "name": "stdout",
     "output_type": "stream",
     "text": [
      "/home/luzinsan/Documents/Obsidian/ML/Innopolis/material/1 semester/Machine Learning/Project/notebooks\n",
      "data-profiling.ipynb  orders.ipynb\n"
     ]
    },
    {
     "name": "stderr",
     "output_type": "stream",
     "text": [
      "/home/luzinsan/.cache/pypoetry/virtualenvs/ml-venv-uqlfkjfM-py3.11/lib/python3.11/site-packages/IPython/core/magics/osm.py:417: UserWarning: This is now an optional IPython functionality, setting dhist requires you to install the `pickleshare` library.\n",
      "  self.shell.db['dhist'] = compress_dhist(dhist)[-100:]\n"
     ]
    }
   ],
   "source": [
    "%cd /home/luzinsan/Documents/Obsidian/ML/Innopolis/material/1 semester/Machine Learning/Project/notebooks\n",
    "!ls"
   ]
  },
  {
   "cell_type": "code",
   "execution_count": 2,
   "metadata": {},
   "outputs": [],
   "source": [
    "import pandas as pd\n",
    "import numpy as np\n",
    "import sklearn\n",
    "import seaborn as sns\n",
    "import plotly.express as px\n",
    "import matplotlib.pyplot as plt\n",
    "from sklearn.model_selection import train_test_split\n",
    "from sklearn import preprocessing\n",
    "from sklearn import metrics\n",
    "from category_encoders import BinaryEncoder, cat_boost\n",
    "%matplotlib inline\n",
    "import warnings\n",
    "warnings.filterwarnings('ignore')"
   ]
  },
  {
   "cell_type": "markdown",
   "metadata": {},
   "source": [
    "# Reading from database and prepare target feature"
   ]
  },
  {
   "cell_type": "code",
   "execution_count": 27,
   "metadata": {},
   "outputs": [],
   "source": [
    "from sqlalchemy import create_engine, text\n",
    "\n",
    "session_engine = create_engine('sqlite:///../F24.ML.Assignment.One.data.db')\n",
    "\n",
    "with session_engine.connect() as conn: \n",
    "    original_orders = pd.read_sql_query(text('SELECT * FROM joined_table'), con=conn) \n",
    "    \n",
    "original_orders.to_csv('../content/full_orders_df.csv', index=False)\n",
    "original_orders"
   ]
  },
  {
   "cell_type": "code",
   "execution_count": 4,
   "metadata": {},
   "outputs": [],
   "source": [
    "date_cols = ['date_create', 'order_start_prepare', 'order_ready'] \n",
    "for col_name in date_cols:\n",
    "    original_orders[col_name] = pd.to_datetime(original_orders[col_name], format='mixed')\n",
    "original_orders['order_pickup'] = pd.to_datetime(original_orders['order_pickup'], dayfirst=True)\n",
    "\n",
    "orders = original_orders.copy() \n",
    "orders "
   ]
  },
  {
   "cell_type": "code",
   "execution_count": 26,
   "metadata": {},
   "outputs": [],
   "source": [
    "print(\"Observations with None in 'date_create' and 'order_start_prepare': \", (orders['date_create'].isnull() \\\n",
    "                                                                              & orders['order_start_prepare'].isnull()).sum(), \n",
    "      \"\\nWill be drop in the next line\")\n",
    "orders = orders[~(orders['date_create'].isnull() & orders['order_start_prepare'].isnull())]\n",
    "orders.shape"
   ]
  },
  {
   "cell_type": "code",
   "execution_count": 30,
   "metadata": {},
   "outputs": [],
   "source": [
    "def impute_dates_by_store(x):\n",
    "    diff_date = x['order_start_prepare'] - x['date_create']\n",
    "    mean_diff = diff_date[diff_date > pd.to_timedelta(\"0 days\")].mean()\n",
    "    x.loc[x['order_start_prepare'].isnull(), 'order_start_prepare'] = x.loc[x['order_start_prepare'].isnull(), 'date_create'] + mean_diff\n",
    "    x.loc[x['date_create'].isnull(), 'date_create'] = x.loc[x['date_create'].isnull(), 'order_start_prepare'] - mean_diff\n",
    "\n",
    "    diff_date = x['order_pickup'] - x['order_ready']\n",
    "    mean_diff = diff_date[diff_date > pd.to_timedelta(\"0 days\")].mean()\n",
    "    x.loc[x['order_pickup'].isnull(), 'order_pickup'] = x.loc[x['order_pickup'].isnull(), 'order_ready'] + mean_diff\n",
    "    x.loc[x['order_ready'].isnull(), 'order_ready'] = x.loc[x['order_ready'].isnull(), 'order_pickup'] - mean_diff\n",
    "    return x\n",
    "\n",
    "orders.loc[:,['date_create','order_start_prepare','order_ready','order_pickup']] = orders.groupby(\"store_id\")\\\n",
    "        .apply(lambda x: impute_dates_by_store(x))\\\n",
    "        .reset_index(allow_duplicates=True)\\\n",
    "        .set_index('level_1')[['date_create','order_start_prepare','order_ready','order_pickup']]\n"
   ]
  },
  {
   "cell_type": "code",
   "execution_count": 31,
   "metadata": {},
   "outputs": [],
   "source": [
    "orders.loc[:, 'actual_prep_time'] = (orders['order_ready'] - orders['order_start_prepare']).dt.total_seconds() /60\n",
    "\n",
    "anomaly_diff_mask = (orders['actual_prep_time'] < 0) | orders['actual_prep_time'].isnull() \n",
    "print(orders.loc[anomaly_diff_mask].shape)\n",
    "orders = orders.loc[~anomaly_diff_mask]"
   ]
  },
  {
   "cell_type": "code",
   "execution_count": 8,
   "metadata": {},
   "outputs": [],
   "source": [
    "orders['on_time'] = np.where(abs(orders['planned_prep_time'] - orders['actual_prep_time']) <= 5, 1, 0)"
   ]
  },
  {
   "cell_type": "code",
   "execution_count": 32,
   "metadata": {},
   "outputs": [],
   "source": [
    "orders = orders.drop(columns=['order_id','order_ready','order_pickup'])"
   ]
  },
  {
   "cell_type": "code",
   "execution_count": 34,
   "metadata": {},
   "outputs": [],
   "source": [
    "orders.to_csv('../content/orders_with_target.csv', index=False)"
   ]
  },
  {
   "cell_type": "markdown",
   "metadata": {},
   "source": [
    "# EDA"
   ]
  },
  {
   "cell_type": "code",
   "execution_count": 3,
   "metadata": {},
   "outputs": [],
   "source": [
    "orders = pd.read_csv('../content/orders_with_target.csv', parse_dates=['date_create','order_start_prepare'])"
   ]
  },
  {
   "cell_type": "code",
   "execution_count": 4,
   "metadata": {},
   "outputs": [],
   "source": [
    "orders.info()"
   ]
  },
  {
   "cell_type": "code",
   "execution_count": 5,
   "metadata": {},
   "outputs": [],
   "source": [
    "numerical = ['products','order_price','profit','delivery_distance','actual_prep_time']"
   ]
  },
  {
   "cell_type": "markdown",
   "metadata": {},
   "source": [
    "## Uni-variate analysis"
   ]
  },
  {
   "cell_type": "code",
   "execution_count": 14,
   "metadata": {},
   "outputs": [],
   "source": [
    "_, axes = plt.subplots(1, 2, figsize=(18, 4))\n",
    "\n",
    "sns.histplot(orders[\"products\"], stat='density', \n",
    "\t\t\t kde=True, bins=orders.products.max(), discrete=True,\n",
    "             ax=axes[0])\n",
    "sns.histplot(orders[[\"order_price\",\"profit\"]], \n",
    "             stat='density', \n",
    "\t\t\t kde=True,\n",
    "             bins=35,\n",
    "             ax=axes[1])"
   ]
  },
  {
   "cell_type": "code",
   "execution_count": 15,
   "metadata": {},
   "outputs": [],
   "source": [
    "_, axes = plt.subplots(1, 2, figsize=(18, 4))\n",
    "\n",
    "sns.histplot(orders[[\"delivery_distance\"]], \n",
    "             stat='density', \n",
    "\t\t\t kde=True,\n",
    "             bins=35, ax=axes[0])\n",
    "sns.boxplot(x=\"delivery_distance\", data=orders, ax=axes[1])"
   ]
  },
  {
   "cell_type": "markdown",
   "metadata": {},
   "source": [
    "Here we see that `delivery_distance` has outliers"
   ]
  },
  {
   "cell_type": "code",
   "execution_count": 16,
   "metadata": {},
   "outputs": [],
   "source": [
    "_, axes = plt.subplots(1, 2, figsize=(18, 4))\n",
    "\n",
    "sns.histplot(orders[[\"planned_prep_time\"]], \n",
    "             stat='density', \n",
    "\t\t\t kde=True,\n",
    "             bins=35, ax=axes[0])\n",
    "sns.boxplot(x=\"planned_prep_time\", data=orders, ax=axes[1])"
   ]
  },
  {
   "cell_type": "code",
   "execution_count": 17,
   "metadata": {},
   "outputs": [],
   "source": [
    "_, axes = plt.subplots(1, 2, figsize=(18, 4))\n",
    "\n",
    "sns.histplot(orders[[\"actual_prep_time\"]], \n",
    "             stat='density', \n",
    "\t\t\t kde=True,\n",
    "            #  bins=35\n",
    "            ax=axes[0]\n",
    "             )\n",
    "sns.boxplot(x=\"actual_prep_time\", data=orders, ax=axes[1])"
   ]
  },
  {
   "cell_type": "markdown",
   "metadata": {},
   "source": [
    "## Categorical and binary features"
   ]
  },
  {
   "cell_type": "code",
   "execution_count": 96,
   "metadata": {},
   "outputs": [],
   "source": [
    "_, axes = plt.subplots(1,2, figsize=(18,4))\n",
    "orders['region_id'].value_counts().plot(kind='bar',\n",
    "                                        yticks=orders['region_id'].value_counts().values[::4],\n",
    "                                        title='region_id',\n",
    "                                        ax=axes[0])\n",
    "orders['status_id'].value_counts().plot(kind='bar', logy=True, title='status_id', ax=axes[1])\n"
   ]
  },
  {
   "cell_type": "code",
   "execution_count": 102,
   "metadata": {},
   "outputs": [],
   "source": [
    "orders['store_id'].value_counts()"
   ]
  },
  {
   "cell_type": "code",
   "execution_count": 29,
   "metadata": {},
   "outputs": [],
   "source": [
    "pie_data = orders.value_counts('on_time')\n",
    "plt.pie(pie_data, labels=pie_data.index.map({0:'Late', 1:\"On time\"}), autopct='%0.01f%%')"
   ]
  },
  {
   "cell_type": "markdown",
   "metadata": {},
   "source": [
    "## Multi-dimentional analysis"
   ]
  },
  {
   "cell_type": "code",
   "execution_count": 39,
   "metadata": {},
   "outputs": [],
   "source": [
    "orders['original_price'] = orders['order_price'] + orders['profit']"
   ]
  },
  {
   "cell_type": "code",
   "execution_count": 41,
   "metadata": {},
   "outputs": [],
   "source": [
    "corr_matrix = orders[['products','order_price','profit','original_price','delivery_distance','actual_prep_time']].corr()\n",
    "sns.heatmap(corr_matrix, annot=True)"
   ]
  },
  {
   "cell_type": "code",
   "execution_count": 14,
   "metadata": {},
   "outputs": [],
   "source": [
    "sns.relplot(orders, \n",
    "            kind=\"scatter\",\n",
    "            x='order_price', y='profit', \n",
    "            hue='actual_prep_time', size='actual_prep_time', sizes=(20, 200), hue_norm=(0, 500),\n",
    "            col=\"status_id\")"
   ]
  },
  {
   "cell_type": "code",
   "execution_count": 31,
   "metadata": {},
   "outputs": [],
   "source": [
    "%config InlineBackend.figure_format = 'png'\n",
    "sns.pairplot(orders.select_dtypes('number'))"
   ]
  },
  {
   "cell_type": "code",
   "execution_count": 6,
   "metadata": {},
   "outputs": [],
   "source": [
    "orders_without_outls = orders.copy()\n",
    "num_dropped = 0\n",
    "for feature in numerical:\n",
    "    upper_quantile = orders[feature].quantile(q=0.99)\n",
    "    print(f'99% quantile of \"{feature}\": {upper_quantile:.001f}')\n",
    "    mask_outliers = orders[feature] > upper_quantile\n",
    "    print(f\"Percent of outliers from entire dataset: {mask_outliers.sum() / len(orders) * 100: 0.001f}%\")\n",
    "    print(f\"Percent of outliers from current dataset: {mask_outliers.sum() / len(orders_without_outls) * 100 : .001f}%\")\n",
    "    print(\"Delete \", mask_outliers.sum(), \" observations.\\n\")\n",
    "    num_dropped += mask_outliers.sum()\n",
    "    orders_without_outls = orders_without_outls[~mask_outliers]\n",
    "print('Thus, was dropped: ', num_dropped)\n",
    "orders_without_outls.shape"
   ]
  },
  {
   "cell_type": "code",
   "execution_count": 7,
   "metadata": {},
   "outputs": [],
   "source": [
    "ncols = 3\n",
    "fig, axes = plt.subplots(nrows=2, ncols=ncols, figsize=(14, 6))\n",
    "for idx, feat in enumerate(numerical):\n",
    "\tax = axes[idx // ncols, idx % ncols]\n",
    "\tsns.boxplot(x='on_time', y=feat, data=orders_without_outls, ax=ax)\n",
    "\tax.set_xlabel('on_time')\n",
    "\tax.set_ylabel(feat)\n",
    "\n",
    "fig.tight_layout()"
   ]
  },
  {
   "cell_type": "code",
   "execution_count": 8,
   "metadata": {},
   "outputs": [],
   "source": [
    "corr_matrix = orders_without_outls[['products','order_price','profit','delivery_distance','actual_prep_time']].corr()\n",
    "sns.heatmap(corr_matrix, annot=True)"
   ]
  },
  {
   "cell_type": "code",
   "execution_count": 9,
   "metadata": {},
   "outputs": [],
   "source": [
    "sns.catplot(\n",
    "    x=\"on_time\",\n",
    "    y=\"products\",\n",
    "    col=\"region_id\",\n",
    "    data=orders_without_outls,\n",
    "    kind=\"box\",\n",
    "    col_wrap=4,\n",
    "    height=3,\n",
    "    aspect=0.8,\n",
    ");"
   ]
  },
  {
   "cell_type": "markdown",
   "metadata": {},
   "source": [
    "## PCA"
   ]
  },
  {
   "cell_type": "code",
   "execution_count": null,
   "metadata": {},
   "outputs": [],
   "source": [
    "# mean_vector = np.mean(X_train, axis=0)\n",
    "# data_centered = X_train - mean_vector\n",
    "# data_centered"
   ]
  },
  {
   "cell_type": "code",
   "execution_count": null,
   "metadata": {},
   "outputs": [],
   "source": [
    "# # this is to check your solution\n",
    "# from sklearn.decomposition import PCA\n",
    "# pca = PCA(n_components=1)\n",
    "# x_PCA = pca.fit_transform(X_train)\n",
    "# plt.plot(x_PCA, np.zeros(len(x_PCA)), '.', color=\"red\", label=\"Projected\")"
   ]
  },
  {
   "cell_type": "markdown",
   "metadata": {},
   "source": [
    "# Preprocess the data"
   ]
  },
  {
   "cell_type": "code",
   "execution_count": 10,
   "metadata": {},
   "outputs": [
    {
     "name": "stdout",
     "output_type": "stream",
     "text": [
      "<class 'pandas.core.frame.DataFrame'>\n",
      "RangeIndex: 515064 entries, 0 to 515063\n",
      "Data columns (total 12 columns):\n",
      " #   Column               Non-Null Count   Dtype         \n",
      "---  ------               --------------   -----         \n",
      " 0   store_id             515064 non-null  int64         \n",
      " 1   products             515064 non-null  int64         \n",
      " 2   order_price          500179 non-null  float64       \n",
      " 3   profit               463932 non-null  float64       \n",
      " 4   delivery_distance    515064 non-null  int64         \n",
      " 5   date_create          515064 non-null  datetime64[ns]\n",
      " 6   order_start_prepare  515064 non-null  datetime64[ns]\n",
      " 7   planned_prep_time    515063 non-null  float64       \n",
      " 8   region_id            515064 non-null  int64         \n",
      " 9   status_id            515064 non-null  object        \n",
      " 10  actual_prep_time     515064 non-null  float64       \n",
      " 11  on_time              515064 non-null  int64         \n",
      "dtypes: datetime64[ns](2), float64(4), int64(5), object(1)\n",
      "memory usage: 47.2+ MB\n"
     ]
    }
   ],
   "source": [
    "data_features = ['date_create', 'order_start_prepare']\n",
    "numerical = ['products','order_price','profit','delivery_distance','actual_prep_time']\n",
    "orders = pd.read_csv('../content/orders_with_target.csv', parse_dates=['date_create','order_start_prepare'])\n",
    "\n",
    "for col_name in data_features:\n",
    "    orders[col_name] = pd.to_datetime(orders[col_name], format='mixed')\n",
    "\n",
    "orders.info() "
   ]
  },
  {
   "cell_type": "code",
   "execution_count": 11,
   "metadata": {},
   "outputs": [
    {
     "name": "stdout",
     "output_type": "stream",
     "text": [
      "99% quantile of \"products\": 8.0\n",
      "Percent of outliers from entire dataset:  0.6%\n",
      "Percent of outliers from current dataset:  0.6%\n",
      "Delete  3069  observations.\n",
      "\n",
      "99% quantile of \"order_price\": 319.9\n",
      "Percent of outliers from entire dataset:  1.0%\n",
      "Percent of outliers from current dataset:  1.0%\n",
      "Delete  4948  observations.\n",
      "\n",
      "99% quantile of \"profit\": 207.0\n",
      "Percent of outliers from entire dataset:  0.9%\n",
      "Percent of outliers from current dataset:  0.9%\n",
      "Delete  4640  observations.\n",
      "\n",
      "99% quantile of \"delivery_distance\": 14682.4\n",
      "Percent of outliers from entire dataset:  1.0%\n",
      "Percent of outliers from current dataset:  1.0%\n",
      "Delete  5151  observations.\n",
      "\n",
      "99% quantile of \"actual_prep_time\": 55.8\n",
      "Percent of outliers from entire dataset:  1.0%\n",
      "Percent of outliers from current dataset:  1.0%\n",
      "Delete  5148  observations.\n",
      "\n",
      "Thus, was dropped:  22956\n"
     ]
    },
    {
     "data": {
      "text/plain": [
       "(495971, 12)"
      ]
     },
     "execution_count": 11,
     "metadata": {},
     "output_type": "execute_result"
    }
   ],
   "source": [
    "orders_without_outls = orders.copy()\n",
    "num_dropped = 0\n",
    "for feature in numerical:\n",
    "    upper_quantile = orders[feature].quantile(q=0.99)\n",
    "    print(f'99% quantile of \"{feature}\": {upper_quantile:.001f}')\n",
    "    mask_outliers = orders[feature] > upper_quantile\n",
    "    print(f\"Percent of outliers from entire dataset: {mask_outliers.sum() / len(orders) * 100: 0.001f}%\")\n",
    "    print(f\"Percent of outliers from current dataset: {mask_outliers.sum() / len(orders_without_outls) * 100 : .001f}%\")\n",
    "    print(\"Delete \", mask_outliers.sum(), \" observations.\\n\")\n",
    "    num_dropped += mask_outliers.sum()\n",
    "    orders_without_outls = orders_without_outls[~mask_outliers]\n",
    "print('Thus, was dropped: ', num_dropped)\n",
    "orders_without_outls.shape"
   ]
  },
  {
   "cell_type": "code",
   "execution_count": 12,
   "metadata": {},
   "outputs": [
    {
     "data": {
      "text/plain": [
       "Index(['store_id', 'products', 'order_price', 'profit', 'delivery_distance',\n",
       "       'date_create', 'order_start_prepare', 'planned_prep_time', 'region_id',\n",
       "       'status_id', 'actual_prep_time', 'on_time'],\n",
       "      dtype='object')"
      ]
     },
     "execution_count": 12,
     "metadata": {},
     "output_type": "execute_result"
    }
   ],
   "source": [
    "df = orders_without_outls.copy()\n",
    "df.columns"
   ]
  },
  {
   "cell_type": "code",
   "execution_count": 13,
   "metadata": {},
   "outputs": [],
   "source": [
    "target = ['actual_prep_time','on_time']\n",
    "cat_features = ['store_id','region_id','status_id']\n",
    "numeric_features = ['products', 'order_price', 'profit', 'delivery_distance']\n",
    "\n",
    "df[cat_features] = df[cat_features].astype('object') "
   ]
  },
  {
   "cell_type": "code",
   "execution_count": 14,
   "metadata": {},
   "outputs": [],
   "source": [
    "def encode_cyclical_feat(data: pd.DataFrame, col: pd.Series, col_name: str):\n",
    "    data[col_name + '_sin'] = np.sin(2 * np.pi * col/col.max())\n",
    "    data[col_name + '_cos'] = np.cos(2 * np.pi * col/col.max())\n",
    "    return data\n",
    "\n",
    "for col_name in data_features:\n",
    "    df = encode_cyclical_feat(df, df[col_name].dt.month, col_name + '_month')\n",
    "    df = encode_cyclical_feat(df, df[col_name].dt.day, col_name + '_day')\n",
    "    df = encode_cyclical_feat(df, df[col_name].dt.weekday, col_name + '_weekday')\n",
    "    df = encode_cyclical_feat(df, df[col_name].dt.hour, col_name + '_hour')\n",
    "    df = encode_cyclical_feat(df, df[col_name].dt.minute, col_name + '_minute')\n",
    "    df = df.drop(columns=col_name)"
   ]
  },
  {
   "cell_type": "code",
   "execution_count": 15,
   "metadata": {},
   "outputs": [],
   "source": [
    "X_train, X_test, y_train, y_test = train_test_split(df.drop(columns=target), \n",
    "                                                    df[target], \n",
    "                                                    train_size=0.7)\n",
    "\n",
    "###################################### Imputting #####################################\n",
    "from sklearn.impute import SimpleImputer\n",
    "col_imputing = ['order_price','profit']\n",
    "imputer = SimpleImputer()\n",
    "X_train[col_imputing] = pd.DataFrame(imputer.fit_transform(X_train[col_imputing]), columns=col_imputing, index=X_train.index)\n",
    "X_test[col_imputing] = pd.DataFrame(imputer.transform(X_test[col_imputing]), columns=col_imputing, index=X_test.index)\n",
    "\n",
    "\n",
    "###################################### Encoding #####################################\n",
    "encoder = cat_boost.CatBoostEncoder(cols=cat_features)\n",
    "X_train = encoder.fit_transform(X_train, y_train.iloc[:,0])\n",
    "X_test = encoder.transform(X_test, y_test.iloc[:,0])\n",
    "\n",
    "##################################### Scaling #####################################\n",
    "scaler = preprocessing.MinMaxScaler()\n",
    "X_train = pd.DataFrame(scaler.fit_transform(X_train), columns=scaler.get_feature_names_out())\n",
    "X_test = pd.DataFrame(scaler.transform(X_test), columns=scaler.get_feature_names_out())\n"
   ]
  },
  {
   "cell_type": "code",
   "execution_count": 16,
   "metadata": {},
   "outputs": [],
   "source": [
    "all_features = ['store_id', 'products', 'order_price', 'profit', 'delivery_distance',\n",
    "       'region_id', 'status_id', \n",
    "       'date_create_month_sin', 'date_create_month_cos', \n",
    "       'date_create_day_sin', 'date_create_day_cos',\n",
    "       'date_create_weekday_sin', 'date_create_weekday_cos',\n",
    "       'date_create_hour_sin', 'date_create_hour_cos',\n",
    "       'date_create_minute_sin', 'date_create_minute_cos',\n",
    "       'order_start_prepare_month_sin', 'order_start_prepare_month_cos',\n",
    "       'order_start_prepare_day_sin', 'order_start_prepare_day_cos',\n",
    "       'order_start_prepare_weekday_sin', 'order_start_prepare_weekday_cos',\n",
    "       'order_start_prepare_hour_sin', 'order_start_prepare_hour_cos',\n",
    "       'order_start_prepare_minute_sin', 'order_start_prepare_minute_cos',\n",
    "       'planned_prep_time', 'actual_prep_time','on_time']"
   ]
  },
  {
   "cell_type": "markdown",
   "metadata": {},
   "source": [
    "# Regression"
   ]
  },
  {
   "cell_type": "code",
   "execution_count": 17,
   "metadata": {},
   "outputs": [],
   "source": [
    "target = 'actual_prep_time'\n",
    "y_train, y_test = y_train[target], y_test[target]"
   ]
  },
  {
   "cell_type": "markdown",
   "metadata": {},
   "source": [
    "## Experiment #1"
   ]
  },
  {
   "cell_type": "code",
   "execution_count": 18,
   "metadata": {},
   "outputs": [],
   "source": [
    "feature_selected = ['store_id', 'products', 'order_price', 'profit', 'delivery_distance',\n",
    "       'region_id', 'status_id', \n",
    "       'date_create_month_sin', 'date_create_month_cos', \n",
    "       'date_create_day_sin', 'date_create_day_cos',\n",
    "       'date_create_weekday_sin', 'date_create_weekday_cos',\n",
    "       'date_create_hour_sin', 'date_create_hour_cos',\n",
    "       'date_create_minute_sin', 'date_create_minute_cos',\n",
    "       'order_start_prepare_month_sin', 'order_start_prepare_month_cos',\n",
    "       'order_start_prepare_day_sin', 'order_start_prepare_day_cos',\n",
    "       'order_start_prepare_weekday_sin', 'order_start_prepare_weekday_cos',\n",
    "       'order_start_prepare_hour_sin', 'order_start_prepare_hour_cos',\n",
    "       'order_start_prepare_minute_sin', 'order_start_prepare_minute_cos',\n",
    "       ]\n",
    "X_train_reg = X_train[feature_selected]\n",
    "X_test_reg = X_test[feature_selected]"
   ]
  },
  {
   "cell_type": "code",
   "execution_count": 19,
   "metadata": {},
   "outputs": [
    {
     "name": "stdout",
     "output_type": "stream",
     "text": [
      "Model intercept : 2.5087820329136576\n",
      "Model coefficient : [ 39.04960069   6.0793898    5.63089785   1.24471946   3.82631797\n",
      "  -2.55430598  -0.98688256  -5.49263177  24.97008356  -5.6278068\n",
      "  -5.36491301   0.64728499   1.14281472  -1.26012005  13.07350918\n",
      "  -0.32367813   0.19554799   5.521155   -24.82452042   5.57855932\n",
      "   5.29424079  -0.89635476  -1.29045472   1.72776339 -13.48976244\n",
      "   0.42181012  -0.19751634]\n",
      "Mean Absolute Error: 6.499755288874547\n",
      "Mean Squared Error: 71.39580240939328\n",
      "Root Mean Squared Error: 8.44960368356962\n",
      "R^2: 0.3218168309100745\n"
     ]
    },
    {
     "data": {
      "image/png": "[encoded data removed]",
      "text/plain": [
       "<Figure size 640x480 with 1 Axes>"
      ]
     },
     "metadata": {},
     "output_type": "display_data"
    }
   ],
   "source": [
    "# With CatBoost Encoder and MinMax Scaler\n",
    "from sklearn.linear_model import LinearRegression\n",
    "\n",
    "regressor = LinearRegression()\n",
    "regressor.fit(X_train_reg, y_train)\n",
    "print(f\"Model intercept : {regressor.intercept_}\")\n",
    "print(f\"Model coefficient : {regressor.coef_}\")\n",
    "\n",
    "y_pred = regressor.predict(X_test_reg)\n",
    "eval_df = pd.DataFrame({'Actual': y_test, 'Predicted': y_pred})\n",
    "\n",
    "# With CatBoost Encoder and Robust Scaler\n",
    "x_axis = np.linspace(0, eval_df['Predicted'].max(), len(eval_df))\n",
    "plt.scatter(x_axis, eval_df['Predicted'].sort_values(), s=1, c='r')\n",
    "plt.scatter(x_axis[::200], eval_df['Actual'].sort_values()[::200], s=1, c='b')\n",
    "\n",
    "print('Mean Absolute Error:', metrics.mean_absolute_error(y_test, y_pred))\n",
    "print('Mean Squared Error:', metrics.mean_squared_error(y_test, y_pred))\n",
    "print('Root Mean Squared Error:', np.sqrt(metrics.mean_squared_error(y_test, y_pred)))\n",
    "print('R^2:', metrics.r2_score(y_test, y_pred))"
   ]
  },
  {
   "cell_type": "code",
   "execution_count": 20,
   "metadata": {},
   "outputs": [
    {
     "name": "stdout",
     "output_type": "stream",
     "text": [
      "Mean Absolute Error: 6.505963779678767\n",
      "Mean Squared Error: 71.49534273616868\n",
      "Root Mean Squared Error: 8.455491868375764\n",
      "R^2: 0.3208713050950176\n"
     ]
    },
    {
     "data": {
      "text/plain": [
       "order_start_prepare_weekday_sin     0.015551\n",
       "date_create_weekday_cos             0.016325\n",
       "date_create_month_cos               0.035042\n",
       "date_create_minute_sin              0.047404\n",
       "order_start_prepare_weekday_cos     0.047461\n",
       "date_create_weekday_sin             0.159345\n",
       "order_start_prepare_hour_cos        0.321969\n",
       "order_start_prepare_hour_sin        0.432995\n",
       "region_id                           0.823054\n",
       "profit                              1.010846\n",
       "delivery_distance                   3.497425\n",
       "order_price                         5.431708\n",
       "products                            5.945789\n",
       "store_id                           38.232519\n",
       "dtype: float64"
      ]
     },
     "execution_count": 20,
     "metadata": {},
     "output_type": "execute_result"
    }
   ],
   "source": [
    "from sklearn.linear_model import Lasso\n",
    "alpha = 0.01\n",
    "lasso = Lasso(alpha, random_state=42)\n",
    "lasso.fit(X_train_reg, y_train)\n",
    "\n",
    "y_pred = lasso.predict(X_test_reg)\n",
    "print('Mean Absolute Error:', metrics.mean_absolute_error(y_test, y_pred))\n",
    "print('Mean Squared Error:', metrics.mean_squared_error(y_test, y_pred))\n",
    "print('Root Mean Squared Error:', np.sqrt(metrics.mean_squared_error(y_test, y_pred)))\n",
    "print('R^2:', metrics.r2_score(y_test, y_pred))\n",
    "\n",
    "importance_features = abs(pd.Series(lasso.coef_, lasso.feature_names_in_)).sort_values()\n",
    "importance_features = importance_features[importance_features > 0]\n",
    "importance_features"
   ]
  },
  {
   "cell_type": "markdown",
   "metadata": {},
   "source": [
    "## Experiment #2"
   ]
  },
  {
   "cell_type": "code",
   "execution_count": 21,
   "metadata": {},
   "outputs": [],
   "source": [
    "X_train_reg = X_train[importance_features.index]\n",
    "X_test_reg = X_test[importance_features.index]"
   ]
  },
  {
   "cell_type": "code",
   "execution_count": 22,
   "metadata": {},
   "outputs": [
    {
     "name": "stdout",
     "output_type": "stream",
     "text": [
      "Model intercept : 2.2049379600703247\n",
      "date_create_weekday_sin             0.076185\n",
      "date_create_minute_sin              0.132104\n",
      "date_create_month_cos               0.134748\n",
      "order_start_prepare_weekday_sin     0.319277\n",
      "order_start_prepare_hour_cos        0.405892\n",
      "order_start_prepare_hour_sin        0.624599\n",
      "date_create_weekday_cos             1.195142\n",
      "profit                              1.241854\n",
      "order_start_prepare_weekday_cos     1.339800\n",
      "region_id                           2.557781\n",
      "delivery_distance                   3.781940\n",
      "order_price                         5.614878\n",
      "products                            6.079238\n",
      "store_id                           39.024439\n",
      "dtype: float64 \n",
      "\n",
      "\n",
      "Mean Absolute Error: 6.500727543527767\n",
      "Mean Squared Error: 71.45321682529114\n",
      "Root Mean Squared Error: 8.453000462870634\n",
      "R^2: 0.3212714558430393\n"
     ]
    },
    {
     "data": {
      "image/png": "[encoded data removed]",
      "text/plain": [
       "<Figure size 640x480 with 1 Axes>"
      ]
     },
     "metadata": {},
     "output_type": "display_data"
    }
   ],
   "source": [
    "from sklearn.linear_model import LinearRegression\n",
    "\n",
    "regressor = LinearRegression()\n",
    "regressor.fit(X_train_reg, y_train)\n",
    "print(f\"Model intercept : {regressor.intercept_}\")\n",
    "print(abs(pd.Series(regressor.coef_, regressor.feature_names_in_)).sort_values(), '\\n\\n')\n",
    "\n",
    "y_pred = regressor.predict(X_test_reg)\n",
    "eval_df = pd.DataFrame({'Actual': y_test, 'Predicted': y_pred})\n",
    "\n",
    "x_axis = np.linspace(0, eval_df['Predicted'].max(), len(eval_df))\n",
    "plt.scatter(x_axis, eval_df['Predicted'].sort_values(), s=1, c='r')\n",
    "plt.scatter(x_axis[::200], eval_df['Actual'].sort_values()[::200], s=1, c='b')\n",
    "\n",
    "print('Mean Absolute Error:', metrics.mean_absolute_error(y_test, y_pred))\n",
    "print('Mean Squared Error:', metrics.mean_squared_error(y_test, y_pred))\n",
    "print('Root Mean Squared Error:', np.sqrt(metrics.mean_squared_error(y_test, y_pred)))\n",
    "print('R^2:', metrics.r2_score(y_test, y_pred))"
   ]
  },
  {
   "cell_type": "markdown",
   "metadata": {},
   "source": [
    "## Ridge"
   ]
  },
  {
   "cell_type": "code",
   "execution_count": 27,
   "metadata": {},
   "outputs": [
    {
     "data": {
      "image/png": "[encoded data removed]",
      "text/plain": [
       "<Figure size 640x480 with 1 Axes>"
      ]
     },
     "metadata": {},
     "output_type": "display_data"
    },
    {
     "name": "stdout",
     "output_type": "stream",
     "text": [
      "Best value of alpha: 53.06122448979592\n",
      "Mean Absolute Error: 6.502097712421511\n",
      "Mean Squared Error: 71.45128302967487\n",
      "Root Mean Squared Error: 8.45288607693697\n",
      "R^2: 0.3212898248170568\n"
     ]
    },
    {
     "data": {
      "text/plain": [
       "date_create_weekday_sin             0.046144\n",
       "date_create_month_cos               0.129770\n",
       "date_create_minute_sin              0.131867\n",
       "order_start_prepare_weekday_sin     0.197089\n",
       "date_create_weekday_cos             0.283130\n",
       "order_start_prepare_hour_cos        0.404898\n",
       "order_start_prepare_weekday_cos     0.426741\n",
       "order_start_prepare_hour_sin        0.621042\n",
       "profit                              1.280946\n",
       "region_id                           2.355786\n",
       "delivery_distance                   3.767163\n",
       "order_price                         5.622336\n",
       "products                            6.054348\n",
       "store_id                           38.648171\n",
       "dtype: float64"
      ]
     },
     "execution_count": 27,
     "metadata": {},
     "output_type": "execute_result"
    },
    {
     "data": {
      "image/png": "[encoded data removed]",
      "text/plain": [
       "<Figure size 640x480 with 1 Axes>"
      ]
     },
     "metadata": {},
     "output_type": "display_data"
    }
   ],
   "source": [
    "from sklearn.linear_model import Ridge\n",
    "alphas = np.linspace(40, 80, 50)\n",
    "losses = []\n",
    "for alpha in alphas:\n",
    "    ridge = Ridge(alpha, random_state=42)\n",
    "    ridge.fit(X_train_reg, y_train)\n",
    "    losses.append(metrics.mean_squared_error(y_test, ridge.predict(X_test_reg)))\n",
    "   \n",
    "    \n",
    "plt.plot(alphas, losses)\n",
    "plt.title(\"Ridge alpha value selection\")\n",
    "plt.xlabel(\"alpha\")\n",
    "plt.ylabel(\"Mean squared error\")\n",
    "plt.show()\n",
    "\n",
    "best_alpha = alphas[np.argmin(losses)]\n",
    "print(\"Best value of alpha:\", best_alpha)\n",
    "\n",
    "alpha = best_alpha\n",
    "ridge = Ridge(alpha, random_state=42)\n",
    "ridge.fit(X_train_reg, y_train)\n",
    "y_pred = ridge.predict(X_test_reg)\n",
    "\n",
    "\n",
    "print('Mean Absolute Error:', metrics.mean_absolute_error(y_test, y_pred))\n",
    "print('Mean Squared Error:', metrics.mean_squared_error(y_test, y_pred))\n",
    "print('Root Mean Squared Error:', np.sqrt(metrics.mean_squared_error(y_test, y_pred)))\n",
    "print('R^2:', metrics.r2_score(y_test, y_pred))\n",
    "\n",
    "eval_df = pd.DataFrame({'Actual': y_test, 'Predicted': y_pred})\n",
    "x_axis = np.linspace(0, eval_df['Predicted'].max(), len(eval_df))\n",
    "plt.scatter(x_axis, eval_df['Predicted'].sort_values(), s=1, c='r')\n",
    "plt.scatter(x_axis[::200], eval_df['Actual'].sort_values()[::200], s=1, c='b')\n",
    "\n",
    "\n",
    "abs(pd.Series(ridge.coef_, ridge.feature_names_in_)).sort_values()"
   ]
  },
  {
   "cell_type": "markdown",
   "metadata": {},
   "source": [
    "## Polynomial"
   ]
  },
  {
   "cell_type": "code",
   "execution_count": 28,
   "metadata": {},
   "outputs": [],
   "source": [
    "from sklearn.pipeline import Pipeline\n",
    "from sklearn.preprocessing import PolynomialFeatures\n",
    "from sklearn.linear_model import LinearRegression\n",
    "from sklearn.model_selection import cross_val_score"
   ]
  },
  {
   "cell_type": "code",
   "execution_count": 34,
   "metadata": {},
   "outputs": [
    {
     "name": "stdout",
     "output_type": "stream",
     "text": [
      "Polynomial degree:  3\n",
      "Mean Absolute Error: 39744014.765075885\n",
      "Mean Squared Error: 2.1574133714545567e+20\n",
      "Root Mean Squared Error: 14688135931.6101\n",
      "R^2: -2.0493101665841554e+18\n"
     ]
    },
    {
     "data": {
      "text/html": [
       "<div>\n",
       "<style scoped>\n",
       "    .dataframe tbody tr th:only-of-type {\n",
       "        vertical-align: middle;\n",
       "    }\n",
       "\n",
       "    .dataframe tbody tr th {\n",
       "        vertical-align: top;\n",
       "    }\n",
       "\n",
       "    .dataframe thead th {\n",
       "        text-align: right;\n",
       "    }\n",
       "</style>\n",
       "<table border=\"1\" class=\"dataframe\">\n",
       "  <thead>\n",
       "    <tr style=\"text-align: right;\">\n",
       "      <th></th>\n",
       "      <th>Actual</th>\n",
       "      <th>Predicted</th>\n",
       "    </tr>\n",
       "  </thead>\n",
       "  <tbody>\n",
       "    <tr>\n",
       "      <th>0</th>\n",
       "      <td>13.483333</td>\n",
       "      <td>20.181152</td>\n",
       "    </tr>\n",
       "    <tr>\n",
       "      <th>1</th>\n",
       "      <td>13.183333</td>\n",
       "      <td>21.603516</td>\n",
       "    </tr>\n",
       "    <tr>\n",
       "      <th>2</th>\n",
       "      <td>20.250000</td>\n",
       "      <td>21.681641</td>\n",
       "    </tr>\n",
       "    <tr>\n",
       "      <th>3</th>\n",
       "      <td>24.333333</td>\n",
       "      <td>18.785645</td>\n",
       "    </tr>\n",
       "    <tr>\n",
       "      <th>4</th>\n",
       "      <td>28.316667</td>\n",
       "      <td>20.641113</td>\n",
       "    </tr>\n",
       "    <tr>\n",
       "      <th>...</th>\n",
       "      <td>...</td>\n",
       "      <td>...</td>\n",
       "    </tr>\n",
       "    <tr>\n",
       "      <th>148787</th>\n",
       "      <td>13.466667</td>\n",
       "      <td>15.51123</td>\n",
       "    </tr>\n",
       "    <tr>\n",
       "      <th>148788</th>\n",
       "      <td>30.350000</td>\n",
       "      <td>14.466309</td>\n",
       "    </tr>\n",
       "    <tr>\n",
       "      <th>148789</th>\n",
       "      <td>10.300000</td>\n",
       "      <td>15.334229</td>\n",
       "    </tr>\n",
       "    <tr>\n",
       "      <th>148790</th>\n",
       "      <td>28.483333</td>\n",
       "      <td>28.933594</td>\n",
       "    </tr>\n",
       "    <tr>\n",
       "      <th>148791</th>\n",
       "      <td>5.616667</td>\n",
       "      <td>13.632812</td>\n",
       "    </tr>\n",
       "  </tbody>\n",
       "</table>\n",
       "<p>148792 rows × 2 columns</p>\n",
       "</div>"
      ],
      "text/plain": [
       "           Actual  Predicted\n",
       "0       13.483333  20.181152\n",
       "1       13.183333  21.603516\n",
       "2       20.250000  21.681641\n",
       "3       24.333333  18.785645\n",
       "4       28.316667  20.641113\n",
       "...           ...        ...\n",
       "148787  13.466667   15.51123\n",
       "148788  30.350000  14.466309\n",
       "148789  10.300000  15.334229\n",
       "148790  28.483333  28.933594\n",
       "148791   5.616667  13.632812\n",
       "\n",
       "[148792 rows x 2 columns]"
      ]
     },
     "execution_count": 34,
     "metadata": {},
     "output_type": "execute_result"
    },
    {
     "data": {
      "image/png": "[encoded data removed]",
      "text/plain": [
       "<Figure size 640x480 with 1 Axes>"
      ]
     },
     "metadata": {},
     "output_type": "display_data"
    }
   ],
   "source": [
    "degrees = [3]\n",
    "\n",
    "\n",
    "for i in degrees:\n",
    "    polynomial_features = PolynomialFeatures(degree=i)\n",
    "    linear_regression = LinearRegression()\n",
    "    pipeline = Pipeline([(\"polynomial_features\", polynomial_features),\n",
    "                         (\"linear_regression\", linear_regression)])\n",
    "    pipeline.fit(X_train_reg, y_train.to_frame())\n",
    "\n",
    "    y_pred = pipeline.predict(X_test_reg)\n",
    "    print(\"Polynomial degree: \", i)\n",
    "    print('Mean Absolute Error:', metrics.mean_absolute_error(y_test, y_pred))\n",
    "    print('Mean Squared Error:', metrics.mean_squared_error(y_test, y_pred))\n",
    "    print('Root Mean Squared Error:', np.sqrt(metrics.mean_squared_error(y_test, y_pred)))\n",
    "    print('R^2:', metrics.r2_score(y_test, y_pred))\n",
    "\n",
    "eval_df = pd.DataFrame({'Actual': y_test.reset_index(drop=True), 'Predicted': pd.Series(y_pred.tolist()).explode()})\n",
    "x_axis = np.linspace(0, eval_df['Predicted'].max(), len(eval_df))\n",
    "plt.scatter(x_axis, eval_df['Predicted'].sort_values(), s=1, c='r')\n",
    "plt.scatter(x_axis[::200], eval_df['Actual'].sort_values()[::200], s=1, c='b')\n",
    "eval_df"
   ]
  },
  {
   "cell_type": "code",
   "execution_count": 40,
   "metadata": {},
   "outputs": [
    {
     "data": {
      "text/plain": [
       "count    1.487920e+05\n",
       "mean    -3.786643e+07\n",
       "std      1.468814e+10\n",
       "min     -5.663521e+12\n",
       "25%      1.600879e+01\n",
       "50%      2.027429e+01\n",
       "75%      2.453577e+01\n",
       "max      1.396825e+11\n",
       "dtype: float64"
      ]
     },
     "execution_count": 40,
     "metadata": {},
     "output_type": "execute_result"
    }
   ],
   "source": [
    "pd.Series(y_pred.tolist()).explode().astype('float').describe()"
   ]
  },
  {
   "cell_type": "markdown",
   "metadata": {},
   "source": [
    "## Support vector regression"
   ]
  },
  {
   "cell_type": "code",
   "execution_count": null,
   "metadata": {},
   "outputs": [],
   "source": []
  },
  {
   "cell_type": "code",
   "execution_count": null,
   "metadata": {},
   "outputs": [],
   "source": []
  },
  {
   "cell_type": "markdown",
   "metadata": {},
   "source": [
    "# Classification"
   ]
  },
  {
   "cell_type": "code",
   "execution_count": 83,
   "metadata": {},
   "outputs": [],
   "source": [
    "df = pd.read_csv('../content/orders_with_target.csv')\n",
    "df.columns"
   ]
  },
  {
   "cell_type": "code",
   "execution_count": 67,
   "metadata": {},
   "outputs": [],
   "source": [
    "df.info()"
   ]
  },
  {
   "cell_type": "code",
   "execution_count": 61,
   "metadata": {},
   "outputs": [],
   "source": [
    "# experiment #1\n",
    "feature_selected = ['store_id', 'products', 'order_price', 'profit', 'delivery_distance',\n",
    "       'region_id', 'date_create_month_sin',\n",
    "       'date_create_month_cos', 'date_create_day_sin', 'date_create_day_cos',\n",
    "       'date_create_weekday_sin', 'date_create_weekday_cos',\n",
    "       'date_create_hour_sin', 'date_create_hour_cos',\n",
    "       'date_create_minute_sin', 'date_create_minute_cos',\n",
    "       'order_start_prepare_month_sin', 'order_start_prepare_month_cos',\n",
    "       'order_start_prepare_day_sin', 'order_start_prepare_day_cos',\n",
    "       'order_start_prepare_weekday_sin', 'order_start_prepare_weekday_cos',\n",
    "       'order_start_prepare_hour_sin', 'order_start_prepare_hour_cos',\n",
    "       'order_start_prepare_minute_sin', 'order_start_prepare_minute_cos', 'on_time']\n",
    "df = df[feature_selected]"
   ]
  },
  {
   "cell_type": "code",
   "execution_count": 85,
   "metadata": {},
   "outputs": [],
   "source": [
    "# experiment #2\n",
    "feature_selected = ['store_id', 'products', 'order_price', 'profit', 'delivery_distance',\n",
    "       'region_id', \n",
    "       'date_create_hour_cos',\n",
    "       'order_start_prepare_hour_cos',\n",
    "       'on_time']\n",
    "df = df[feature_selected]"
   ]
  },
  {
   "cell_type": "code",
   "execution_count": 86,
   "metadata": {},
   "outputs": [],
   "source": [
    "target = 'on_time'\n",
    "cat_features = ['store_id','region_id']\n",
    "numeric_features = df.columns.difference(cat_features + [target])\n",
    "df[cat_features] = df[cat_features].astype('object') "
   ]
  },
  {
   "cell_type": "code",
   "execution_count": 87,
   "metadata": {},
   "outputs": [],
   "source": [
    "X_train, X_test, y_train, y_test = train_test_split(df.drop(columns=target), \n",
    "                                                    df[target], \n",
    "                                                    train_size=0.7)\n",
    "\n",
    "# Fill missing values\n",
    "from sklearn.impute import SimpleImputer\n",
    "col_imputing = ['order_price','profit']\n",
    "imputer = SimpleImputer()\n",
    "X_train[col_imputing] = pd.DataFrame(imputer.fit_transform(X_train[col_imputing]), columns=col_imputing, index=X_train.index)\n",
    "X_test[col_imputing] = pd.DataFrame(imputer.transform(X_test[col_imputing]), columns=col_imputing, index=X_test.index)\n",
    "\n",
    "\n",
    "encoder = cat_boost.CatBoostEncoder(cols=cat_features)\n",
    "X_train = encoder.fit_transform(X_train, y_train)\n",
    "X_test = encoder.transform(X_test, y_test)\n",
    "\n",
    "scaler = preprocessing.MinMaxScaler()\n",
    "X_train = pd.DataFrame(scaler.fit_transform(X_train), columns=scaler.get_feature_names_out())\n",
    "X_test = pd.DataFrame(scaler.transform(X_test), columns=scaler.get_feature_names_out())"
   ]
  },
  {
   "cell_type": "code",
   "execution_count": 88,
   "metadata": {},
   "outputs": [],
   "source": [
    "# Experiment #2\n",
    "from sklearn.linear_model import LogisticRegression\n",
    "\n",
    "# fit Logistic Regression\n",
    "clf = LogisticRegression(random_state=42).fit(X_train, y_train)\n",
    "y_test_pred = clf.predict(X_test)\n",
    "\n",
    "# calculate metrics\n",
    "print('Testing accuracy = {}'.format(metrics.accuracy_score(y_test, y_test_pred)))\n",
    "print('Testing precision = {}'.format(metrics.precision_score(y_test, y_test_pred)))\n",
    "print('Testing recall = {}'.format(metrics.recall_score(y_test, y_test_pred)))\n",
    "\n",
    "# Logistic Regression Coefficients\n",
    "print(\"----Logistic Regression Coefficients----\")\n",
    "print(*[a for a in zip(list(X_train.columns), clf.coef_[0])], sep='\\n')"
   ]
  },
  {
   "cell_type": "code",
   "execution_count": 89,
   "metadata": {},
   "outputs": [],
   "source": [
    "# TODO: calculate metrics for each threshold above and plot the result as below.\n",
    "# thresholds = [0.1,0.2,0.3,0.4,0.5,0.6,0.7,0.8,0.9]\n",
    "thresholds = [0.05,0.1,0.15,0.2,0.25,0.3,0.35,0.4,0.45,0.5,0.55,0.6,0.65,.7,.75,.8,.85,.9,.95,.99]\n",
    "pred_proba = clf.predict_proba(X_test)\n",
    "\n",
    "results = [[],[],[]]\n",
    "for i in thresholds:\n",
    "    y_test_pred_thr = np.where(pred_proba[:, 1] > i, 1, 0)\n",
    "    results[0].append(metrics.accuracy_score(y_test, y_test_pred_thr)) # accuracy \n",
    "    results[1].append(metrics.precision_score(y_test, y_test_pred_thr)) # precision\n",
    "    results[2].append(metrics.recall_score(y_test, y_test_pred_thr)) # recall\n",
    "    \n",
    "plt.plot(thresholds, results[0], label = 'accuracy')   \n",
    "plt.plot(thresholds, results[1], label = 'precision')   \n",
    "plt.plot(thresholds, results[2], label = 'recall')\n",
    "plt.title('Threshold Selection')\n",
    "plt.xlabel('threshold')\n",
    "plt.ylabel('score')\n",
    "plt.legend()\n",
    "plt.grid()"
   ]
  },
  {
   "cell_type": "code",
   "execution_count": 91,
   "metadata": {},
   "outputs": [],
   "source": [
    "# Select the optimal prediction threshold\n",
    "optimal_thresholds = 0.4\n",
    "\n",
    "from sklearn.metrics import confusion_matrix, ConfusionMatrixDisplay\n",
    "\n",
    "\n",
    "pred_proba = clf.predict_proba(X_test)\n",
    "y_pred = np.where(pred_proba[:, 1] > optimal_thresholds, 1, 0)\n",
    "\n",
    "cm = confusion_matrix(y_test, y_pred, labels=clf.classes_, \n",
    "                    #   normalize='true'\n",
    "                      )\n",
    "ConfusionMatrixDisplay(cm, display_labels=clf.classes_).plot()\n",
    "\n",
    "# calculate metrics\n",
    "print('Testing accuracy = {}'.format(metrics.accuracy_score(y_test, y_pred)))\n",
    "print('Testing precision = {}'.format(metrics.precision_score(y_test, y_pred)))\n",
    "print('Testing recall = {}'.format(metrics.recall_score(y_test, y_pred)))\n",
    "print('Testing f1_score = {}'.format(metrics.f1_score(y_test, y_pred)))"
   ]
  }
 ],
 "metadata": {
  "kernelspec": {
   "display_name": "Python 3 (ipykernel)",
   "language": "python",
   "name": "python3"
  },
  "language_info": {
   "codemirror_mode": {
    "name": "ipython",
    "version": 3
   },
   "file_extension": ".py",
   "mimetype": "text/x-python",
   "name": "python",
   "nbconvert_exporter": "python",
   "pygments_lexer": "ipython3",
   "version": "3.11.7"
  }
 },
 "nbformat": 4,
 "nbformat_minor": 2
}
