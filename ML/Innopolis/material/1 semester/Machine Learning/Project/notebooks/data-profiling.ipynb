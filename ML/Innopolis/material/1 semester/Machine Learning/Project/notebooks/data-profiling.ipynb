{
 "cells": [
  {
   "cell_type": "code",
   "execution_count": 3,
   "metadata": {},
   "outputs": [
    {
     "name": "stdout",
     "output_type": "stream",
     "text": [
      "/home/luzinsan/Documents/Obsidian/ML/Innopolis/material/1 semester/Machine Learning/Project\n",
      "data-profiling.ipynb\t   F24.ML.Assignment.One.data.db\n",
      "F24.ML.Assignment.1-1.pdf  orders.ipynb\n"
     ]
    },
    {
     "name": "stderr",
     "output_type": "stream",
     "text": [
      "/home/luzinsan/.cache/pypoetry/virtualenvs/ydata-venv-utnj6P3i-py3.11/lib/python3.11/site-packages/IPython/core/magics/osm.py:417: UserWarning: This is now an optional IPython functionality, setting dhist requires you to install the `pickleshare` library.\n",
      "  self.shell.db['dhist'] = compress_dhist(dhist)[-100:]\n"
     ]
    }
   ],
   "source": [
    "%cd /home/luzinsan/Documents/Obsidian/ML/Innopolis/material/1 semester/Machine Learning/Project\n",
    "!ls"
   ]
  },
  {
   "cell_type": "code",
   "execution_count": 4,
   "metadata": {},
   "outputs": [
    {
     "data": {
      "text/html": [
       "<div>\n",
       "<style scoped>\n",
       "    .dataframe tbody tr th:only-of-type {\n",
       "        vertical-align: middle;\n",
       "    }\n",
       "\n",
       "    .dataframe tbody tr th {\n",
       "        vertical-align: top;\n",
       "    }\n",
       "\n",
       "    .dataframe thead th {\n",
       "        text-align: right;\n",
       "    }\n",
       "</style>\n",
       "<table border=\"1\" class=\"dataframe\">\n",
       "  <thead>\n",
       "    <tr style=\"text-align: right;\">\n",
       "      <th></th>\n",
       "      <th>store_id</th>\n",
       "      <th>order_id</th>\n",
       "      <th>profit</th>\n",
       "      <th>delivery_distance</th>\n",
       "      <th>date_create</th>\n",
       "      <th>order_start_prepare</th>\n",
       "      <th>planned_prep_time</th>\n",
       "      <th>order_ready</th>\n",
       "      <th>order_pickup</th>\n",
       "      <th>region_id</th>\n",
       "      <th>status_id</th>\n",
       "    </tr>\n",
       "  </thead>\n",
       "  <tbody>\n",
       "    <tr>\n",
       "      <th>0</th>\n",
       "      <td>5014</td>\n",
       "      <td>20562761</td>\n",
       "      <td>45.504</td>\n",
       "      <td>2205</td>\n",
       "      <td>2024-09-05 15:25:25</td>\n",
       "      <td>2024-09-05 15:25:33</td>\n",
       "      <td>15.0</td>\n",
       "      <td>2024-09-05 15:32:00</td>\n",
       "      <td>05-09-2024 16:00:00</td>\n",
       "      <td>683</td>\n",
       "      <td>F</td>\n",
       "    </tr>\n",
       "    <tr>\n",
       "      <th>1</th>\n",
       "      <td>3856</td>\n",
       "      <td>20562753</td>\n",
       "      <td>30.336</td>\n",
       "      <td>1368</td>\n",
       "      <td>2024-09-05 15:25:12</td>\n",
       "      <td>2024-09-05 15:25:19</td>\n",
       "      <td>10.0</td>\n",
       "      <td>2024-09-05 15:35:50</td>\n",
       "      <td>05-09-2024 16:03:50</td>\n",
       "      <td>683</td>\n",
       "      <td>F</td>\n",
       "    </tr>\n",
       "    <tr>\n",
       "      <th>2</th>\n",
       "      <td>10825</td>\n",
       "      <td>20562723</td>\n",
       "      <td>43.608000000000004</td>\n",
       "      <td>459</td>\n",
       "      <td>2024-09-05 15:23:32</td>\n",
       "      <td>2024-09-05 15:23:44</td>\n",
       "      <td>20.0</td>\n",
       "      <td>2024-09-05 15:38:38</td>\n",
       "      <td>05-09-2024 16:06:38</td>\n",
       "      <td>683</td>\n",
       "      <td>F</td>\n",
       "    </tr>\n",
       "    <tr>\n",
       "      <th>3</th>\n",
       "      <td>5640</td>\n",
       "      <td>20562673</td>\n",
       "      <td>32.864</td>\n",
       "      <td>2611</td>\n",
       "      <td>2024-09-05 15:19</td>\n",
       "      <td>2024-09-05 15:19:05</td>\n",
       "      <td>20.0</td>\n",
       "      <td>2024-09-05 15:35:25</td>\n",
       "      <td>05-09-2024 16:03:25</td>\n",
       "      <td>709</td>\n",
       "      <td>F</td>\n",
       "    </tr>\n",
       "    <tr>\n",
       "      <th>4</th>\n",
       "      <td>7283</td>\n",
       "      <td>20562665</td>\n",
       "      <td>11.06</td>\n",
       "      <td>1041</td>\n",
       "      <td>2024-09-05 15:18:39</td>\n",
       "      <td>None</td>\n",
       "      <td>15.0</td>\n",
       "      <td>2024-09-05 15:35:33</td>\n",
       "      <td>05-09-2024 16:03:33</td>\n",
       "      <td>707</td>\n",
       "      <td>F</td>\n",
       "    </tr>\n",
       "    <tr>\n",
       "      <th>...</th>\n",
       "      <td>...</td>\n",
       "      <td>...</td>\n",
       "      <td>...</td>\n",
       "      <td>...</td>\n",
       "      <td>...</td>\n",
       "      <td>...</td>\n",
       "      <td>...</td>\n",
       "      <td>...</td>\n",
       "      <td>...</td>\n",
       "      <td>...</td>\n",
       "      <td>...</td>\n",
       "    </tr>\n",
       "    <tr>\n",
       "      <th>517605</th>\n",
       "      <td>9007</td>\n",
       "      <td>18671231</td>\n",
       "      <td>122.73440000000001</td>\n",
       "      <td>5411</td>\n",
       "      <td>2024-05-08 00:02:22</td>\n",
       "      <td>2024-05-08 00:02:37</td>\n",
       "      <td>25.0</td>\n",
       "      <td>2024-05-08 00:36:25</td>\n",
       "      <td>08-05-2024 01:04:25</td>\n",
       "      <td>707</td>\n",
       "      <td>F</td>\n",
       "    </tr>\n",
       "    <tr>\n",
       "      <th>517606</th>\n",
       "      <td>8929</td>\n",
       "      <td>18671229</td>\n",
       "      <td>40.29</td>\n",
       "      <td>5499</td>\n",
       "      <td>2024-05-08 00:02:59</td>\n",
       "      <td>2024-05-08 00:10:07</td>\n",
       "      <td>30.0</td>\n",
       "      <td>2024-05-08 00:22:04</td>\n",
       "      <td>08-05-2024 00:50:04</td>\n",
       "      <td>683</td>\n",
       "      <td>F</td>\n",
       "    </tr>\n",
       "    <tr>\n",
       "      <th>517607</th>\n",
       "      <td>8721</td>\n",
       "      <td>18671227</td>\n",
       "      <td>6.0040000000000004</td>\n",
       "      <td>4396</td>\n",
       "      <td>2024-05-08 00:01:38</td>\n",
       "      <td>2024-05-08 00:01:50</td>\n",
       "      <td>20.0</td>\n",
       "      <td>2024-05-08 00:49:19</td>\n",
       "      <td>08-05-2024 01:17:19</td>\n",
       "      <td>691</td>\n",
       "      <td>F</td>\n",
       "    </tr>\n",
       "    <tr>\n",
       "      <th>517608</th>\n",
       "      <td>5863</td>\n",
       "      <td>18671225</td>\n",
       "      <td>15.8</td>\n",
       "      <td>560</td>\n",
       "      <td>2024-05-08 00:01:46</td>\n",
       "      <td>2024-05-08 00:02:01</td>\n",
       "      <td>15.0</td>\n",
       "      <td>2024-05-08 00:10:29</td>\n",
       "      <td>08-05-2024 00:38:29</td>\n",
       "      <td>703</td>\n",
       "      <td>F</td>\n",
       "    </tr>\n",
       "    <tr>\n",
       "      <th>517609</th>\n",
       "      <td>3750</td>\n",
       "      <td>18671223</td>\n",
       "      <td>20.145</td>\n",
       "      <td>3934</td>\n",
       "      <td>2024-05-08 00:01:12</td>\n",
       "      <td>2024-05-08 00:01:21</td>\n",
       "      <td>35.0</td>\n",
       "      <td>2024-05-08 00:25:12</td>\n",
       "      <td>08-05-2024 00:53:12</td>\n",
       "      <td>683</td>\n",
       "      <td>F</td>\n",
       "    </tr>\n",
       "  </tbody>\n",
       "</table>\n",
       "<p>517610 rows × 11 columns</p>\n",
       "</div>"
      ],
      "text/plain": [
       "        store_id  order_id              profit delivery_distance  \\\n",
       "0           5014  20562761              45.504              2205   \n",
       "1           3856  20562753              30.336              1368   \n",
       "2          10825  20562723  43.608000000000004               459   \n",
       "3           5640  20562673              32.864              2611   \n",
       "4           7283  20562665               11.06              1041   \n",
       "...          ...       ...                 ...               ...   \n",
       "517605      9007  18671231  122.73440000000001              5411   \n",
       "517606      8929  18671229               40.29              5499   \n",
       "517607      8721  18671227  6.0040000000000004              4396   \n",
       "517608      5863  18671225                15.8               560   \n",
       "517609      3750  18671223              20.145              3934   \n",
       "\n",
       "                date_create  order_start_prepare  planned_prep_time  \\\n",
       "0       2024-09-05 15:25:25  2024-09-05 15:25:33               15.0   \n",
       "1       2024-09-05 15:25:12  2024-09-05 15:25:19               10.0   \n",
       "2       2024-09-05 15:23:32  2024-09-05 15:23:44               20.0   \n",
       "3          2024-09-05 15:19  2024-09-05 15:19:05               20.0   \n",
       "4       2024-09-05 15:18:39                 None               15.0   \n",
       "...                     ...                  ...                ...   \n",
       "517605  2024-05-08 00:02:22  2024-05-08 00:02:37               25.0   \n",
       "517606  2024-05-08 00:02:59  2024-05-08 00:10:07               30.0   \n",
       "517607  2024-05-08 00:01:38  2024-05-08 00:01:50               20.0   \n",
       "517608  2024-05-08 00:01:46  2024-05-08 00:02:01               15.0   \n",
       "517609  2024-05-08 00:01:12  2024-05-08 00:01:21               35.0   \n",
       "\n",
       "                order_ready         order_pickup region_id status_id  \n",
       "0       2024-09-05 15:32:00  05-09-2024 16:00:00       683         F  \n",
       "1       2024-09-05 15:35:50  05-09-2024 16:03:50       683         F  \n",
       "2       2024-09-05 15:38:38  05-09-2024 16:06:38       683         F  \n",
       "3       2024-09-05 15:35:25  05-09-2024 16:03:25       709         F  \n",
       "4       2024-09-05 15:35:33  05-09-2024 16:03:33       707         F  \n",
       "...                     ...                  ...       ...       ...  \n",
       "517605  2024-05-08 00:36:25  08-05-2024 01:04:25       707         F  \n",
       "517606  2024-05-08 00:22:04  08-05-2024 00:50:04       683         F  \n",
       "517607  2024-05-08 00:49:19  08-05-2024 01:17:19       691         F  \n",
       "517608  2024-05-08 00:10:29  08-05-2024 00:38:29       703         F  \n",
       "517609  2024-05-08 00:25:12  08-05-2024 00:53:12       683         F  \n",
       "\n",
       "[517610 rows x 11 columns]"
      ]
     },
     "execution_count": 4,
     "metadata": {},
     "output_type": "execute_result"
    }
   ],
   "source": [
    "import pandas as pd\n",
    "from sqlalchemy import create_engine, text\n",
    "\n",
    "session_engine = create_engine('sqlite:///F24.ML.Assignment.One.data.db')\n",
    "\n",
    "\n",
    "with session_engine.connect() as conn: \n",
    "    orders = pd.read_sql_query(text('SELECT * FROM joined_table'), con=conn) \n",
    "    \n",
    "orders"
   ]
  },
  {
   "cell_type": "code",
   "execution_count": 5,
   "metadata": {},
   "outputs": [
    {
     "data": {
      "text/html": [
       "<style>.container { width:100% !important; }</style>"
      ],
      "text/plain": [
       "<IPython.core.display.HTML object>"
      ]
     },
     "metadata": {},
     "output_type": "display_data"
    }
   ],
   "source": [
    "from IPython.display import display, HTML\n",
    "display(HTML(\"<style>.container { width:100% !important; }</style>\"))"
   ]
  },
  {
   "cell_type": "code",
   "execution_count": 6,
   "metadata": {},
   "outputs": [
    {
     "data": {
      "application/vnd.jupyter.widget-view+json": {
       "model_id": "b984643a1d9440f7a65f37cf07a3ab08",
       "version_major": 2,
       "version_minor": 0
      },
      "text/plain": [
       "Summarize dataset:   0%|          | 0/5 [00:00<?, ?it/s]"
      ]
     },
     "metadata": {},
     "output_type": "display_data"
    },
    {
     "data": {
      "application/vnd.jupyter.widget-view+json": {
       "model_id": "a3585ac762ef45e096fefb7401e7c91d",
       "version_major": 2,
       "version_minor": 0
      },
      "text/plain": [
       "Generate report structure:   0%|          | 0/1 [00:00<?, ?it/s]"
      ]
     },
     "metadata": {},
     "output_type": "display_data"
    },
    {
     "data": {
      "application/vnd.jupyter.widget-view+json": {
       "model_id": "4cc9b3f7940542a0bf140e18064d04c7",
       "version_major": 2,
       "version_minor": 0
      },
      "text/plain": [
       "Render HTML:   0%|          | 0/1 [00:00<?, ?it/s]"
      ]
     },
     "metadata": {},
     "output_type": "display_data"
    },
    {
     "data": {
      "application/vnd.jupyter.widget-view+json": {
       "model_id": "9f6665b89a714ac398429cd91b7ad3e0",
       "version_major": 2,
       "version_minor": 0
      },
      "text/plain": [
       "Export report to file:   0%|          | 0/1 [00:00<?, ?it/s]"
      ]
     },
     "metadata": {},
     "output_type": "display_data"
    }
   ],
   "source": [
    "from ydata_profiling import ProfileReport\n",
    "\n",
    "report = ProfileReport(orders)\n",
    "report.to_file('orders.html')"
   ]
  }
 ],
 "metadata": {
  "kernelspec": {
   "display_name": "Python 3 (ipykernel)",
   "language": "python",
   "name": "python3"
  },
  "language_info": {
   "codemirror_mode": {
    "name": "ipython",
    "version": 3
   },
   "file_extension": ".py",
   "mimetype": "text/x-python",
   "name": "python",
   "nbconvert_exporter": "python",
   "pygments_lexer": "ipython3",
   "version": "3.11.7"
  }
 },
 "nbformat": 4,
 "nbformat_minor": 2
}
