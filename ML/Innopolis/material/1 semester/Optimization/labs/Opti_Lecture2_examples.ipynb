{
  "nbformat": 4,
  "nbformat_minor": 0,
  "metadata": {
    "colab": {
      "provenance": [],
      "toc_visible": true,
      "collapsed_sections": [
        "ZW8caQa3-1I_",
        "xnFfJM-nOXMb",
        "8WV6zciNV1qu"
      ]
    },
    "kernelspec": {
      "name": "python3",
      "display_name": "Python 3"
    },
    "language_info": {
      "name": "python"
    }
  },
  "cells": [
    {
      "cell_type": "markdown",
      "source": [
        "# Example 1 : from general form to standard form"
      ],
      "metadata": {
        "id": "ZW8caQa3-1I_"
      }
    },
    {
      "cell_type": "code",
      "execution_count": null,
      "metadata": {
        "id": "r_sXRz-T-wnh"
      },
      "outputs": [],
      "source": [
        "# Import useful libraries\n",
        "import cvxpy as cp\n",
        "import numpy as np"
      ]
    },
    {
      "cell_type": "markdown",
      "source": [
        "We solve here-under the general program"
      ],
      "metadata": {
        "id": "Wt30_gWsDNIM"
      }
    },
    {
      "cell_type": "code",
      "source": [
        "#First we'll initialize the objective\n",
        "#We can declare x with its size (and sign if needed)\n",
        "x = cp.Variable(2)\n",
        "c = np.array([2, 4])\n",
        "objective = cp.Minimize(c.T @ x)"
      ],
      "metadata": {
        "id": "w-lPd5e2_C9N"
      },
      "execution_count": null,
      "outputs": []
    },
    {
      "cell_type": "code",
      "source": [
        "#Then we'll write the constraints\n",
        "A_eq = np.array([3, 2])\n",
        "A_ineq = np.array([[1, 1],[1 , 0]])\n",
        "b = np.array([3,0])\n",
        "constraints = [A_eq @ x == 14, A_ineq @ x >= b] #This must be a list"
      ],
      "metadata": {
        "id": "L4oVWAgb__pF"
      },
      "execution_count": null,
      "outputs": []
    },
    {
      "cell_type": "code",
      "source": [
        "#Assemble the problem and then solve it\n",
        "problem = cp.Problem(objective, constraints)\n",
        "problem.solve()"
      ],
      "metadata": {
        "colab": {
          "base_uri": "https://localhost:8080/"
        },
        "id": "6ffkYdsiENWu",
        "outputId": "3dbc60ca-c4a3-447b-9a01-cf6e24d0233e"
      },
      "execution_count": null,
      "outputs": [
        {
          "output_type": "execute_result",
          "data": {
            "text/plain": [
              "-3.999999999752154"
            ]
          },
          "metadata": {},
          "execution_count": 22
        }
      ]
    },
    {
      "cell_type": "code",
      "source": [
        "# Print result.\n",
        "print(\"\\nThe optimal value is\", problem.value)\n",
        "print(\"A solution x is\")\n",
        "print(x.value)\n",
        "print(\"A dual solution is\")\n",
        "print(problem.constraints[0].dual_value)"
      ],
      "metadata": {
        "colab": {
          "base_uri": "https://localhost:8080/"
        },
        "id": "oKVwMN4qC9Pu",
        "outputId": "4094a950-16bf-40c4-e35d-6862c7cc9901"
      },
      "execution_count": null,
      "outputs": [
        {
          "output_type": "stream",
          "name": "stdout",
          "text": [
            "\n",
            "The optimal value is -3.999999999752154\n",
            "A solution x is\n",
            "[ 8. -5.]\n",
            "A dual solution is\n",
            "1.999999999910235\n"
          ]
        }
      ]
    },
    {
      "cell_type": "markdown",
      "source": [
        "We solve here-under the standard form"
      ],
      "metadata": {
        "id": "mr0ytHxADUgs"
      }
    },
    {
      "cell_type": "code",
      "source": [
        "x = cp.Variable(4) #x_1, x_2^{+}, x_2^{-}, and s_1. Recall that x_2 = x_2^{+} - x_2^{-}\n",
        "c = np.array([2, 4, -4, 0])\n",
        "objective = cp.Minimize(c.T @ x)"
      ],
      "metadata": {
        "id": "Vdr3NgGuDTaP"
      },
      "execution_count": null,
      "outputs": []
    },
    {
      "cell_type": "code",
      "source": [
        "A_eq = np.array([[1, 1, -1, -1],[3 , 2, -2, 0]])\n",
        "b = np.array([3,14])\n",
        "P = np.eye(4)\n",
        "constraints = [A_eq @ x == b, P @ x >= 0] #This must be a list"
      ],
      "metadata": {
        "id": "vXgLNcW8DiXA"
      },
      "execution_count": null,
      "outputs": []
    },
    {
      "cell_type": "code",
      "source": [
        "#Assemble the problem and then solve it\n",
        "problem = cp.Problem(objective, constraints)\n",
        "problem.solve()"
      ],
      "metadata": {
        "colab": {
          "base_uri": "https://localhost:8080/"
        },
        "id": "zkUWJEZ-Dzzt",
        "outputId": "43d3ec6a-783f-4fa3-b38d-c2a14f35319d"
      },
      "execution_count": null,
      "outputs": [
        {
          "output_type": "execute_result",
          "data": {
            "text/plain": [
              "-4.000000024094646"
            ]
          },
          "metadata": {},
          "execution_count": 28
        }
      ]
    },
    {
      "cell_type": "code",
      "source": [
        "# Print result.\n",
        "print(\"\\nThe optimal value is\", problem.value)\n",
        "print(\"A solution x is\")\n",
        "print(x.value)\n",
        "print(\"A dual solution is\")\n",
        "print(problem.constraints[0].dual_value)"
      ],
      "metadata": {
        "colab": {
          "base_uri": "https://localhost:8080/"
        },
        "id": "b4v71z4cEZIZ",
        "outputId": "2f2239eb-3324-4534-a866-04e3b3c87699"
      },
      "execution_count": null,
      "outputs": [
        {
          "output_type": "stream",
          "name": "stdout",
          "text": [
            "\n",
            "The optimal value is -4.000000024094646\n",
            "A solution x is\n",
            "[ 8.00000001e+00  6.12959881e+00  1.11295988e+01 -3.01039591e-09]\n",
            "A dual solution is\n",
            "[-8.  2.]\n"
          ]
        }
      ]
    },
    {
      "cell_type": "code",
      "source": [
        "print(\"x_1 is\")\n",
        "print(x.value[0])\n",
        "print(\"x_2 is\")\n",
        "print(x.value[1]-x.value[2])"
      ],
      "metadata": {
        "colab": {
          "base_uri": "https://localhost:8080/"
        },
        "id": "tevP9t2EFtT1",
        "outputId": "37d94db7-32a1-41d0-b6e1-4131b6754d49"
      },
      "execution_count": null,
      "outputs": [
        {
          "output_type": "stream",
          "name": "stdout",
          "text": [
            "x_1 is\n",
            "8.000000006024116\n",
            "x_2 is\n",
            "-5.000000009035721\n"
          ]
        }
      ]
    },
    {
      "cell_type": "markdown",
      "source": [
        "Train a bit on the following problem:\n",
        "\n",
        "minimize  $- 4x_1 - 5x_2$\n",
        "\n",
        "subject to\n",
        "\n",
        "$x_1 + 2x_2 \\leq 3$ \\\\\n",
        "\n",
        "$2x1 + x2 = 3$ \\\\\n",
        "$x1, x2 \\geq 0$\n",
        "\n",
        "            \n",
        "           "
      ],
      "metadata": {
        "id": "ka4cqgFg_EUb"
      }
    },
    {
      "cell_type": "markdown",
      "source": [
        "# Example 2 : formulation to a linear program"
      ],
      "metadata": {
        "id": "xnFfJM-nOXMb"
      }
    },
    {
      "cell_type": "markdown",
      "source": [
        "Solve the problem with l1 norm (forbidden to use in a project, this is just for validation of the solution obtained with the reformulation)"
      ],
      "metadata": {
        "id": "zgvj2f0fP2V8"
      }
    },
    {
      "cell_type": "code",
      "source": [
        "# Import useful libraries\n",
        "import cvxpy as cp\n",
        "import numpy as np"
      ],
      "metadata": {
        "id": "EOMwf5XE_DfH"
      },
      "execution_count": null,
      "outputs": []
    },
    {
      "cell_type": "code",
      "source": [
        "x = cp.Variable(2)"
      ],
      "metadata": {
        "id": "Z2hc2lQbOi0C"
      },
      "execution_count": null,
      "outputs": []
    },
    {
      "cell_type": "code",
      "source": [
        "objective = cp.Minimize(2*cp.norm(x[0],1) + x[1])"
      ],
      "metadata": {
        "id": "sqLJzAEJPG2a"
      },
      "execution_count": null,
      "outputs": []
    },
    {
      "cell_type": "code",
      "source": [
        "A_ineq = np.array([1, 1])\n",
        "b = np.array([4])\n",
        "constraints = [A_ineq @ x >= b] #This must be a list"
      ],
      "metadata": {
        "id": "pR1aRj4dPX5n"
      },
      "execution_count": null,
      "outputs": []
    },
    {
      "cell_type": "code",
      "source": [
        "#Assemble the problem and then solve it\n",
        "problem = cp.Problem(objective, constraints)\n",
        "problem.solve()"
      ],
      "metadata": {
        "colab": {
          "base_uri": "https://localhost:8080/"
        },
        "id": "GqgV2W1MPhMz",
        "outputId": "07c0e395-a030-40e4-ce45-d3dd4e8f0149"
      },
      "execution_count": null,
      "outputs": [
        {
          "output_type": "execute_result",
          "data": {
            "text/plain": [
              "4.000000071278308"
            ]
          },
          "metadata": {},
          "execution_count": 5
        }
      ]
    },
    {
      "cell_type": "code",
      "source": [
        "# Print result.\n",
        "print(\"\\nThe optimal value is\", problem.value)\n",
        "print(\"A solution x is\")\n",
        "print(x.value)\n",
        "print(\"A dual solution is\")\n",
        "print(problem.constraints[0].dual_value)"
      ],
      "metadata": {
        "colab": {
          "base_uri": "https://localhost:8080/"
        },
        "id": "EkVPr0C_PkJz",
        "outputId": "96af5f42-a949-4967-d32b-fe22a44d70a8"
      },
      "execution_count": null,
      "outputs": [
        {
          "output_type": "stream",
          "name": "stdout",
          "text": [
            "\n",
            "The optimal value is 4.000000071278308\n",
            "A solution x is\n",
            "[6.48565663e-08 3.99999994e+00]\n",
            "A dual solution is\n",
            "[1.00000002]\n"
          ]
        }
      ]
    },
    {
      "cell_type": "markdown",
      "source": [
        "Solve the reformulation"
      ],
      "metadata": {
        "id": "Q5WDA-kHP8DB"
      }
    },
    {
      "cell_type": "code",
      "source": [
        "x = cp.Variable(3) # x_1, x_2, t\n",
        "c = np.array([0, 1, 1])\n",
        "objective = cp.Minimize(c.T @ x)"
      ],
      "metadata": {
        "id": "_JZqAT_3P7uG"
      },
      "execution_count": null,
      "outputs": []
    },
    {
      "cell_type": "code",
      "source": [
        "#Then we'll write the constraints\n",
        "A_ineq = np.array([[1, 1, 0],[-2 , 0, 1], [2 , 0, 1]])\n",
        "b = np.array([4,0,0])\n",
        "constraints = [A_ineq @ x >= b] #This must be a list"
      ],
      "metadata": {
        "id": "Wd2QAZkWPp5h"
      },
      "execution_count": null,
      "outputs": []
    },
    {
      "cell_type": "code",
      "source": [
        "#Assemble the problem and then solve it\n",
        "problem = cp.Problem(objective, constraints)\n",
        "problem.solve()"
      ],
      "metadata": {
        "colab": {
          "base_uri": "https://localhost:8080/"
        },
        "id": "NsPB79_rQ3E_",
        "outputId": "334d8e76-e941-454c-dbb6-72a2fd7c3499"
      },
      "execution_count": null,
      "outputs": [
        {
          "output_type": "execute_result",
          "data": {
            "text/plain": [
              "4.000000000403228"
            ]
          },
          "metadata": {},
          "execution_count": 10
        }
      ]
    },
    {
      "cell_type": "code",
      "source": [
        "# Print result.\n",
        "print(\"\\nThe optimal value is\", problem.value)\n",
        "print(\"A solution x is\")\n",
        "print(x.value)\n",
        "print(\"A dual solution is\")\n",
        "print(problem.constraints[0].dual_value)"
      ],
      "metadata": {
        "colab": {
          "base_uri": "https://localhost:8080/"
        },
        "id": "-nqH50L7Q5tR",
        "outputId": "562a8721-c0fb-4c80-f652-2b8b2646529c"
      },
      "execution_count": null,
      "outputs": [
        {
          "output_type": "stream",
          "name": "stdout",
          "text": [
            "\n",
            "The optimal value is 4.000000000403228\n",
            "A solution x is\n",
            "[6.75885103e-10 4.00000000e+00 1.15576310e-09]\n",
            "A dual solution is\n",
            "[1.   0.75 0.25]\n"
          ]
        }
      ]
    },
    {
      "cell_type": "markdown",
      "source": [
        "# Example 3: Chebychev center of a polyhedron"
      ],
      "metadata": {
        "id": "8WV6zciNV1qu"
      }
    },
    {
      "cell_type": "code",
      "source": [
        "# import libraries\n",
        "import cvxpy as cp\n",
        "import numpy as np\n",
        "import matplotlib.pyplot as plt"
      ],
      "metadata": {
        "id": "VHgNNPk1XXBv"
      },
      "execution_count": null,
      "outputs": []
    },
    {
      "cell_type": "markdown",
      "source": [
        "The pairs $(x_1,x_2)$ for which\n",
        "\n",
        "$2x_1 + 3 x_2 \\leq 13$,\n",
        "\n",
        "$2x_1 + x_2 \\leq 11$,  \n",
        "\n",
        "$x_1 + 3 x_2 \\leq 9, \\text{ and }$\n",
        "\n",
        "$\\color{red} {x_1, x_2 \\geq 0.} $\n",
        "\n",
        "is a ${\\color{red}polyhedron}$ of $\\mathbb{R}^2$."
      ],
      "metadata": {
        "id": "8dbWBB_BWeLe"
      }
    },
    {
      "cell_type": "code",
      "source": [
        "x1 = np.arange(-1, 10, 0.01)\n",
        "x2 = np.arange(-1, 12, 0.01)\n",
        "\n",
        "plt.rcParams.update({'font.size': 25, 'lines.linewidth': 2})\n",
        "\n",
        "plt.plot(x1, (13-2*x1)/3, 'b')\n",
        "plt.plot(x1, (11-2*x1), 'k')\n",
        "plt.plot(x1, (9-x1)/3, 'y')\n",
        "plt.plot(x1, np.zeros(len(x1)), 'g')\n",
        "plt.plot(np.zeros(len(x2)), x2, 'm')\n",
        "\n",
        "plt.xlabel('$x_1$')\n",
        "plt.ylabel('$x_2$')\n",
        "\n",
        "plt.legend(['$2x_1+3x_2 = 13$', '$2x_1 + x_2 = 11$', '$x_1+3x_2 = 9$', '$x_2=0$', '$x_1 = 0$'], loc='upper right', prop={'size': 10})\n",
        "\n",
        "plt.xticks(np.arange(0, 8, 1))\n",
        "plt.yticks(np.arange(0, 6, 1))\n",
        "plt.axis([-0.5, 7, -0.5, 5])\n",
        "\n",
        "plt.grid()\n",
        "\n",
        "plt.show()"
      ],
      "metadata": {
        "colab": {
          "base_uri": "https://localhost:8080/",
          "height": 503
        },
        "id": "IYJrT0JwV5wF",
        "outputId": "f1e3023b-faf3-435b-820a-7de874003999"
      },
      "execution_count": null,
      "outputs": [
        {
          "output_type": "display_data",
          "data": {
            "text/plain": [
              "<Figure size 640x480 with 1 Axes>"
            ],
            "image/png": "[encoded data removed]"
          },
          "metadata": {}
        }
      ]
    },
    {
      "cell_type": "code",
      "source": [
        "def chebycenter(A, b, r0=None):\n",
        "    \"\"\"\n",
        "    Compute the Chebyshev center of the polytope defined by Ax <= b.\n",
        "\n",
        "    Parameters:\n",
        "    A : np.ndarray\n",
        "        Coefficient matrix of the inequalities.\n",
        "    b : np.ndarray\n",
        "        Right-hand side vector of the inequalities.\n",
        "    r0 : float, optional\n",
        "        Acceptable threshold (lower) for r. If not provided, no upper bound is set.\n",
        "\n",
        "    Returns:\n",
        "    c : np.ndarray\n",
        "        The center of the largest hypersphere enclosed by the polytope.\n",
        "    r : float\n",
        "        The radius of the hypersphere.\n",
        "    \"\"\"\n",
        "    n, p = A.shape\n",
        "    an = np.sqrt(np.sum(A**2, axis=1))\n",
        "\n",
        "    # Construct the augmented matrix A1\n",
        "    A1 = np.zeros((n, p + 1))\n",
        "    A1[:, :p] = A\n",
        "    A1[:, p] = an\n",
        "\n",
        "    # Objective function coefficients\n",
        "    f = np.zeros(p + 1)\n",
        "    f[p] = -1  # We want to minimize -r, which is equivalent to maximizing r\n",
        "\n",
        "    # Define the optimization variables\n",
        "    x = cp.Variable(p + 1)\n",
        "\n",
        "    # Define the constraints\n",
        "    constraints = [A1 @ x <= b]\n",
        "\n",
        "    # Set bounds for the variables\n",
        "    if r0 is not None:\n",
        "        lb = [-np.inf] * (p + 1)\n",
        "        ub = [np.inf] * (p + 1)\n",
        "        lb[p] = -np.inf\n",
        "        ub[p] = r0\n",
        "        constraints += [x >= lb, x <= ub]\n",
        "\n",
        "    # Define the optimization problem\n",
        "    problem = cp.Problem(cp.Minimize(f @ x), constraints)\n",
        "\n",
        "    # Solve the problem\n",
        "    problem.solve()\n",
        "\n",
        "    # Extract the results\n",
        "    c = x.value[:p]\n",
        "    r = x.value[p]\n",
        "\n",
        "    return c, r"
      ],
      "metadata": {
        "id": "OB_9lUTMWT9X"
      },
      "execution_count": null,
      "outputs": []
    },
    {
      "cell_type": "code",
      "source": [
        "A = np.array([[2, 3],[2, 1], [1, 3], [-1, 0], [0, -1] ])\n",
        "b = np.array([13,11,9,0,0])"
      ],
      "metadata": {
        "id": "ayS1CLBxXijh"
      },
      "execution_count": null,
      "outputs": []
    },
    {
      "cell_type": "code",
      "source": [
        "c, r = chebycenter(A, b)"
      ],
      "metadata": {
        "id": "AdbC8hdTXsHD"
      },
      "execution_count": null,
      "outputs": []
    },
    {
      "cell_type": "code",
      "source": [
        "c"
      ],
      "metadata": {
        "colab": {
          "base_uri": "https://localhost:8080/"
        },
        "id": "uk9CI398Y2_q",
        "outputId": "4d21ccf0-1ced-4c04-c1a8-519ef042c60c"
      },
      "execution_count": null,
      "outputs": [
        {
          "output_type": "execute_result",
          "data": {
            "text/plain": [
              "array([1.25658353, 1.25658351])"
            ]
          },
          "metadata": {},
          "execution_count": 63
        }
      ]
    },
    {
      "cell_type": "code",
      "source": [
        "x1 = np.arange(-1, 10, 0.01)\n",
        "x2 = np.arange(-1, 12, 0.01)\n",
        "\n",
        "plt.rcParams.update({'font.size': 25, 'lines.linewidth': 2})\n",
        "\n",
        "plt.plot(x1, (13-2*x1)/3, 'b')\n",
        "plt.plot(x1, (11-2*x1), 'k')\n",
        "plt.plot(x1, (9-x1)/3, 'y')\n",
        "plt.plot(x1, np.zeros(len(x1)), 'g')\n",
        "plt.plot(np.zeros(len(x2)), x2, 'm')\n",
        "\n",
        "\n",
        "circle1 = plt.Circle((c[0], c[1]), r, color='r')\n",
        "fig = plt.gcf()\n",
        "ax = fig.gca()\n",
        "ax.add_patch(circle1)\n",
        "\n",
        "plt.xlabel('$x_1$')\n",
        "plt.ylabel('$x_2$')\n",
        "\n",
        "plt.legend(['$2x_1+3x_2 = 13$', '$2x_1 + x_2 = 11$', '$x_1+3x_2 = 9$', '$x_2=0$', '$x_1 = 0$'], loc='upper right', prop={'size': 10})\n",
        "\n",
        "plt.xticks(np.arange(0, 8, 1))\n",
        "plt.yticks(np.arange(0, 6, 1))\n",
        "plt.axis([-0.5, 7, -0.5, 5])\n",
        "\n",
        "plt.grid()\n",
        "\n",
        "plt.show()\n",
        "\n",
        "fig.savefig('plot_Chebyshev.png')"
      ],
      "metadata": {
        "colab": {
          "base_uri": "https://localhost:8080/",
          "height": 503
        },
        "id": "mwMS8_riYTDP",
        "outputId": "7e6f803e-e767-4857-ceab-0a45a8dfdcff"
      },
      "execution_count": null,
      "outputs": [
        {
          "output_type": "display_data",
          "data": {
            "text/plain": [
              "<Figure size 640x480 with 1 Axes>"
            ],
            "image/png": "[encoded data removed]"
          },
          "metadata": {}
        }
      ]
    },
    {
      "cell_type": "markdown",
      "source": [
        "Questions:\n",
        "- What is the formulation considered above ?\n",
        "- Write the Pythion/CVXPY function to use the other formulation presented during Lecture 2, and check the results."
      ],
      "metadata": {
        "id": "yTgejP1m4ceo"
      }
    },
    {
      "cell_type": "code",
      "source": [],
      "metadata": {
        "id": "lyDlmDOtYtJu"
      },
      "execution_count": null,
      "outputs": []
    }
  ]
}